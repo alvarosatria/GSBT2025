{
  "nbformat": 4,
  "nbformat_minor": 0,
  "metadata": {
    "colab": {
      "provenance": []
    },
    "kernelspec": {
      "name": "python3",
      "display_name": "Python 3"
    },
    "language_info": {
      "name": "python"
    }
  },
  "cells": [
    {
      "cell_type": "markdown",
      "source": [
        "# BayesianSearchCV\n",
        "\n",
        "1. Apa itu hyperparameter tuning?\n",
        "2. Jelaskan metode BayesSearchCV!\n",
        "3. Bagaimana cara kerja BayesSearchCV?\n",
        "4. Apa kelebihan BayesSearchCV dibandingkan metode hyperparameter tuning lainnya?\n",
        "\n"
      ],
      "metadata": {
        "id": "pjbXCL2nNB9N"
      }
    },
    {
      "cell_type": "markdown",
      "source": [
        "1. Apa itu hyperparameter tuning?\n",
        "Hyperparameter tuning adalah proses mencari kombinasi nilai parameter terbaik pada model machine learning agar performanya maksimal. Tujuannya biar model bisa menghasilkan prediksi paling akurat di data uji.\n",
        "\n",
        "2. Jelaskan metode BayesSearchCV!\n",
        "BayesSearchCV adalah metode pencarian hyperparameter berbasis Bayesian Optimization. Metode ini menggunakan pendekatan probabilistik buat menebak kombinasi parameter yang paling berpotensi meningkatkan performa model.\n",
        "\n",
        "3. Bagaimana cara kerja BayesSearchCV?\n",
        "BayesSearchCV bekerja dengan mencoba beberapa kombinasi parameter terlebih dulu, lalu membangun model probabilistik untuk memperkirakan hasil di iterasi berikutnya. Tiap percobaan baru didasarkan pada hasil sebelumnya, jadi prosesnya lebih efisien.\n",
        "\n",
        "4. Apa kelebihan BayesSearchCV dibandingkan metode lainnya?\n",
        "Kelebihan BayesSearchCV adalah proses tuning yang lebih cepat dan efisien karena dia belajar dari percobaan sebelumnya. Berbeda dengan Grid Search yang lambat dan Random Search yang acak, BayesSearchCV bisa menemukan hasil optimal dengan lebih sedikit percobaan."
      ],
      "metadata": {
        "id": "lFqIxakugCB3"
      }
    },
    {
      "cell_type": "code",
      "execution_count": null,
      "metadata": {
        "id": "2o0dt8txGE1k",
        "colab": {
          "base_uri": "https://localhost:8080/"
        },
        "outputId": "a2bd9274-d367-4274-a325-7fbee1e2f0d7"
      },
      "outputs": [
        {
          "output_type": "stream",
          "name": "stdout",
          "text": [
            "Requirement already satisfied: scikit-learn in /usr/local/lib/python3.12/dist-packages (1.6.1)\n",
            "Requirement already satisfied: numpy>=1.19.5 in /usr/local/lib/python3.12/dist-packages (from scikit-learn) (2.0.2)\n",
            "Requirement already satisfied: scipy>=1.6.0 in /usr/local/lib/python3.12/dist-packages (from scikit-learn) (1.16.2)\n",
            "Requirement already satisfied: joblib>=1.2.0 in /usr/local/lib/python3.12/dist-packages (from scikit-learn) (1.5.2)\n",
            "Requirement already satisfied: threadpoolctl>=3.1.0 in /usr/local/lib/python3.12/dist-packages (from scikit-learn) (3.6.0)\n",
            "Requirement already satisfied: scikit-optimize in /usr/local/lib/python3.12/dist-packages (0.10.2)\n",
            "Requirement already satisfied: joblib>=0.11 in /usr/local/lib/python3.12/dist-packages (from scikit-optimize) (1.5.2)\n",
            "Requirement already satisfied: pyaml>=16.9 in /usr/local/lib/python3.12/dist-packages (from scikit-optimize) (25.7.0)\n",
            "Requirement already satisfied: numpy>=1.20.3 in /usr/local/lib/python3.12/dist-packages (from scikit-optimize) (2.0.2)\n",
            "Requirement already satisfied: scipy>=1.1.0 in /usr/local/lib/python3.12/dist-packages (from scikit-optimize) (1.16.2)\n",
            "Requirement already satisfied: scikit-learn>=1.0.0 in /usr/local/lib/python3.12/dist-packages (from scikit-optimize) (1.6.1)\n",
            "Requirement already satisfied: packaging>=21.3 in /usr/local/lib/python3.12/dist-packages (from scikit-optimize) (25.0)\n",
            "Requirement already satisfied: PyYAML in /usr/local/lib/python3.12/dist-packages (from pyaml>=16.9->scikit-optimize) (6.0.3)\n",
            "Requirement already satisfied: threadpoolctl>=3.1.0 in /usr/local/lib/python3.12/dist-packages (from scikit-learn>=1.0.0->scikit-optimize) (3.6.0)\n"
          ]
        }
      ],
      "source": [
        "# import library\n",
        "#!pip install scikit-optimize # install jika belum pernah install #\n",
        "!pip install scikit-learn\n",
        "!pip install scikit-optimize"
      ]
    },
    {
      "cell_type": "code",
      "source": [
        "pip install scikit-optimize"
      ],
      "metadata": {
        "id": "caGgpQG9FRwL",
        "colab": {
          "base_uri": "https://localhost:8080/"
        },
        "outputId": "85b8cd1a-98e0-4e3b-e379-4b1553bffdab"
      },
      "execution_count": 16,
      "outputs": [
        {
          "metadata": {
            "tags": null
          },
          "name": "stdout",
          "output_type": "stream",
          "text": [
            "Requirement already satisfied: scikit-optimize in /usr/local/lib/python3.12/dist-packages (0.10.2)\n",
            "Requirement already satisfied: joblib>=0.11 in /usr/local/lib/python3.12/dist-packages (from scikit-optimize) (1.5.2)\n",
            "Requirement already satisfied: pyaml>=16.9 in /usr/local/lib/python3.12/dist-packages (from scikit-optimize) (25.7.0)\n",
            "Requirement already satisfied: numpy>=1.20.3 in /usr/local/lib/python3.12/dist-packages (from scikit-optimize) (2.0.2)\n",
            "Requirement already satisfied: scipy>=1.1.0 in /usr/local/lib/python3.12/dist-packages (from scikit-optimize) (1.16.2)\n",
            "Requirement already satisfied: scikit-learn>=1.0.0 in /usr/local/lib/python3.12/dist-packages (from scikit-optimize) (1.6.1)\n",
            "Requirement already satisfied: packaging>=21.3 in /usr/local/lib/python3.12/dist-packages (from scikit-optimize) (25.0)\n",
            "Requirement already satisfied: PyYAML in /usr/local/lib/python3.12/dist-packages (from pyaml>=16.9->scikit-optimize) (6.0.3)\n",
            "Requirement already satisfied: threadpoolctl>=3.1.0 in /usr/local/lib/python3.12/dist-packages (from scikit-learn>=1.0.0->scikit-optimize) (3.6.0)\n"
          ]
        }
      ]
    },
    {
      "cell_type": "code",
      "source": [
        "# Load Dataset\n",
        "from sklearn.datasets import load_iris\n",
        "from sklearn.model_selection import train_test_split\n",
        "X, y = load_iris(return_X_y=True)\n",
        "X_train, X_test, y_train, y_test = train_test_split(X, y, train_size=0.75, random_state=0)"
      ],
      "metadata": {
        "id": "v7ENirBIHIYz"
      },
      "execution_count": 17,
      "outputs": []
    },
    {
      "cell_type": "code",
      "source": [
        "print(\"X_train shape:\", X_train.shape)\n",
        "print(\"X_test shape:\", X_test.shape)\n",
        "print(\"Contoh fitur pertama:\", X_train[0])\n",
        "print(\"Label pertama:\", y_train[0])"
      ],
      "metadata": {
        "id": "X9o1NWaqF3J5",
        "colab": {
          "base_uri": "https://localhost:8080/"
        },
        "outputId": "93706553-7f71-46bb-a616-9613848da500"
      },
      "execution_count": 18,
      "outputs": [
        {
          "metadata": {
            "tags": null
          },
          "name": "stdout",
          "output_type": "stream",
          "text": [
            "X_train shape: (112, 4)\n",
            "X_test shape: (38, 4)\n",
            "Contoh fitur pertama: [5.9 3.  4.2 1.5]\n",
            "Label pertama: 1\n"
          ]
        }
      ]
    },
    {
      "cell_type": "code",
      "source": [
        "# Definisikan Model dan parameter yang akan dioptimasi (Ruang Hyperparameter)\n",
        "from sklearn.svm import SVC\n",
        "from skopt import BayesSearchCV\n",
        "\n",
        "search_spaces = {\n",
        "    'C': (1e-6, 1e+6, 'log-uniform'),\n",
        "    'gamma': (1e-6, 1e+1, 'log-uniform'),\n",
        "    'kernel': ['rbf', 'poly']\n",
        "}\n",
        "model = SVC()"
      ],
      "metadata": {
        "id": "vmyqOLU1IO3T"
      },
      "execution_count": 19,
      "outputs": []
    },
    {
      "cell_type": "markdown",
      "source": [
        "# Fungsi Optimisasi Menggunakan BayesianSearchCV"
      ],
      "metadata": {
        "id": "Ip5U8cL4OLUP"
      }
    },
    {
      "cell_type": "code",
      "source": [
        "# Inisialisasi BayesSearchCV\n",
        "from skopt import BayesSearchCV\n",
        "from skopt.space import Real, Categorical, Integer\n",
        "from sklearn.svm import SVC\n",
        "\n",
        "# Definisikan ruang pencarian (range hyperparameter)\n",
        "search_space = {\n",
        "    'C': Real(1e-6, 1e+3, prior='log-uniform'),\n",
        "    'gamma': Real(1e-6, 1e+1, prior='log-uniform'),\n",
        "    'kernel': Categorical(['linear', 'rbf', 'poly'])\n",
        "}\n",
        "\n",
        "svc = SVC()\n",
        "\n",
        "# Inisialisasi BayesSearchCV\n",
        "opt = BayesSearchCV(\n",
        "    estimator=svc,\n",
        "    search_spaces=search_space,\n",
        "    n_iter=32,\n",
        "    cv=3,\n",
        "    n_jobs=-1,\n",
        "    random_state=0\n",
        ")\n"
      ],
      "metadata": {
        "id": "BC0k0vXKOBJk"
      },
      "execution_count": 20,
      "outputs": []
    },
    {
      "cell_type": "code",
      "source": [
        "# Jalankan optimisasi\n",
        "opt.fit(X_train, y_train)\n",
        "\n",
        "# Tampilkan hasil parameter terbaik\n",
        "print(\"Parameter terbaik:\", opt.best_params_)\n",
        "print(\"Akurasi data latih:\", opt.best_score_)\n"
      ],
      "metadata": {
        "id": "EYoUwsYCOB5F",
        "colab": {
          "base_uri": "https://localhost:8080/"
        },
        "outputId": "6eb49bb0-b799-403c-ea48-49b0a975d72e"
      },
      "execution_count": 23,
      "outputs": [
        {
          "output_type": "stream",
          "name": "stdout",
          "text": [
            "Parameter terbaik: OrderedDict({'C': 1000.0, 'gamma': 0.0009330521364931094, 'kernel': 'rbf'})\n",
            "Akurasi data latih: 0.9732100521574206\n"
          ]
        }
      ]
    },
    {
      "cell_type": "code",
      "source": [
        "# Evaluasi Model\n",
        "from sklearn.metrics import accuracy_score\n",
        "\n",
        "y_pred = opt.predict(X_test)\n",
        "acc = accuracy_score(y_test, y_pred)\n",
        "\n",
        "print(\"Akurasi data uji:\", acc)\n"
      ],
      "metadata": {
        "id": "sox5OZx6OD0z",
        "colab": {
          "base_uri": "https://localhost:8080/"
        },
        "outputId": "3676b98f-2ef3-460b-cfb7-aa4e9d0bf8d0"
      },
      "execution_count": 24,
      "outputs": [
        {
          "output_type": "stream",
          "name": "stdout",
          "text": [
            "Akurasi data uji: 0.9736842105263158\n"
          ]
        }
      ]
    }
  ]
}